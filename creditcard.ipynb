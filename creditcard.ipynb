{
 "cells": [
  {
   "cell_type": "code",
   "execution_count": 2,
   "metadata": {},
   "outputs": [],
   "source": [
    "import pandas as pd"
   ]
  },
  {
   "cell_type": "code",
   "execution_count": 7,
   "metadata": {},
   "outputs": [
    {
     "name": "stdout",
     "output_type": "stream",
     "text": [
      "   ID  LIMIT_BAL  SEX  EDUCATION  MARRIAGE  AGE  PAY_0  PAY_2  PAY_3  PAY_4  \\\n",
      "0   1      20000    2          2         1   24      2      2     -1     -1   \n",
      "1   2     120000    2          2         2   26     -1      2      0      0   \n",
      "2   3      90000    2          2         2   34      0      0      0      0   \n",
      "3   4      50000    2          2         1   37      0      0      0      0   \n",
      "4   5      50000    1          2         1   57     -1      0     -1      0   \n",
      "\n",
      "   ...  BILL_AMT4  BILL_AMT5  BILL_AMT6  PAY_AMT1  PAY_AMT2  PAY_AMT3  \\\n",
      "0  ...          0          0          0         0       689         0   \n",
      "1  ...       3272       3455       3261         0      1000      1000   \n",
      "2  ...      14331      14948      15549      1518      1500      1000   \n",
      "3  ...      28314      28959      29547      2000      2019      1200   \n",
      "4  ...      20940      19146      19131      2000     36681     10000   \n",
      "\n",
      "   PAY_AMT4  PAY_AMT5  PAY_AMT6  default payment next month  \n",
      "0         0         0         0                           1  \n",
      "1      1000         0      2000                           1  \n",
      "2      1000      1000      5000                           0  \n",
      "3      1100      1069      1000                           0  \n",
      "4      9000       689       679                           0  \n",
      "\n",
      "[5 rows x 25 columns]\n"
     ]
    }
   ],
   "source": [
    "#correctly setting the header parameter by telling pandas to treat the second row (index \"1\") as the header\n",
    "\n",
    "data = pd.read_csv(\"data.csv\", header=1)\n",
    "print(data.head())"
   ]
  },
  {
   "cell_type": "code",
   "execution_count": 10,
   "metadata": {},
   "outputs": [
    {
     "name": "stdout",
     "output_type": "stream",
     "text": [
      "          ID  LIMIT_BAL  SEX  EDUCATION  MARRIAGE  AGE  PAY_0  PAY_2  PAY_3  \\\n",
      "0          1      20000    2          2         1   24      2      2     -1   \n",
      "7          8     100000    2          2         2   23      0     -1     -1   \n",
      "15        16      50000    2          3         3   23      1      2      0   \n",
      "16        17      20000    1          1         2   24      0      0      2   \n",
      "24        25      90000    1          1         2   23      0      0      0   \n",
      "...      ...        ...  ...        ...       ...  ...    ...    ...    ...   \n",
      "29274  29275     180000    1          1         2   23      0      0      0   \n",
      "29294  29295      50000    1          2         2   24      0      0      0   \n",
      "29342  29343      30000    1          2         2   24      1      2      2   \n",
      "29364  29365      20000    1          1         2   22     -2     -2     -2   \n",
      "29365  29366      50000    1          2         2   24      0      0      0   \n",
      "\n",
      "       PAY_4  ...  BILL_AMT4  BILL_AMT5  BILL_AMT6  PAY_AMT1  PAY_AMT2  \\\n",
      "0         -1  ...          0          0          0         0       689   \n",
      "7          0  ...        221       -159        567       380       601   \n",
      "15         0  ...      28771      29531      30211         0      1500   \n",
      "16         2  ...      18338      17905      19104      3200         0   \n",
      "24        -1  ...       5398       6360       8292      5757         0   \n",
      "...      ...  ...        ...        ...        ...       ...       ...   \n",
      "29274      0  ...     129518     125868     121823      7000      6000   \n",
      "29294      0  ...      17827       7655       7881      5000      1700   \n",
      "29342      2  ...      22798      24420      23889      1700      1300   \n",
      "29364     -2  ...       1000        300          0         0       737   \n",
      "29365      0  ...      20658       9426       8215      2152      1209   \n",
      "\n",
      "       PAY_AMT3  PAY_AMT4  PAY_AMT5  PAY_AMT6  default payment next month  \n",
      "0             0         0         0         0                           1  \n",
      "7             0       581      1687      1542                           0  \n",
      "15         1100      1200      1300      1100                           0  \n",
      "16         1500         0      1650         0                           1  \n",
      "24         5398      1200      2045      2000                           0  \n",
      "...         ...       ...       ...       ...                         ...  \n",
      "29274      5000      5000      4416      4577                           0  \n",
      "29294      2000       500       500       500                           0  \n",
      "29342         0      2000         0      2001                           1  \n",
      "29364      1060       300         0         0                           0  \n",
      "29365      1080       438       434       390                           0  \n",
      "\n",
      "[2685 rows x 25 columns]\n"
     ]
    }
   ],
   "source": [
    "#test\n",
    "\n",
    "ageinvalid=data[\"AGE\"]<25\n",
    "age=data[ageinvalid]\n",
    "print(age)"
   ]
  }
 ],
 "metadata": {
  "kernelspec": {
   "display_name": "Python 3",
   "language": "python",
   "name": "python3"
  },
  "language_info": {
   "codemirror_mode": {
    "name": "ipython",
    "version": 3
   },
   "file_extension": ".py",
   "mimetype": "text/x-python",
   "name": "python",
   "nbconvert_exporter": "python",
   "pygments_lexer": "ipython3",
   "version": "3.10.2"
  }
 },
 "nbformat": 4,
 "nbformat_minor": 2
}
